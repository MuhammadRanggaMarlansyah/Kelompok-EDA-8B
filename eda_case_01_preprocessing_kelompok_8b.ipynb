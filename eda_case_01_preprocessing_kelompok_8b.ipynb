{
  "nbformat": 4,
  "nbformat_minor": 0,
  "metadata": {
    "colab": {
      "provenance": [],
      "collapsed_sections": []
    },
    "kernelspec": {
      "name": "python3",
      "display_name": "Python 3"
    },
    "language_info": {
      "name": "python"
    }
  },
  "cells": [
    {
      "cell_type": "markdown",
      "source": [
        "**1. Import Data**"
      ],
      "metadata": {
        "id": "WyaG5mK5ckWl"
      }
    },
    {
      "cell_type": "markdown",
      "source": [
        "Data diakses dari github, lalu di sambungkan ke google colabs menggunakan fungsi pd.read_csv, data yang diakses ada beberapa kota yaitu kota Jakarta, Bogor, dan Bekasi."
      ],
      "metadata": {
        "id": "k81hkAhRcni6"
      }
    },
    {
      "cell_type": "code",
      "execution_count": null,
      "metadata": {
        "colab": {
          "base_uri": "https://localhost:8080/"
        },
        "id": "kBuy4tpzKumt",
        "outputId": "df58b564-c84b-45d6-a34e-ef94d45ec91a"
      },
      "outputs": [
        {
          "output_type": "execute_result",
          "data": {
            "text/plain": [
              "((1024, 26), (999, 26), (992, 26))"
            ]
          },
          "metadata": {},
          "execution_count": 250
        }
      ],
      "source": [
        "# Loading Data:\n",
        "import pandas as pd\n",
        "import matplotlib\n",
        "import matplotlib.pyplot as plt\n",
        "import seaborn as sns\n",
        "import warnings\n",
        "import gc\n",
        "import numpy as np\n",
        "from collections import Counter\n",
        "matplotlib.rcParams['figure.dpi'] = 100\n",
        "sns.set()\n",
        "%matplotlib inline\n",
        "try: # Running Locally, yakinkan \"file_\" berada di folder \"data\"\n",
        "    jakarta = pd.read_csv(\"data/jakarta.csv\", low_memory = False, encoding='utf8')\n",
        "    bogor = pd.read_csv(\"data/bogor.csv\", low_memory = False, encoding='utf8')\n",
        "    bekasi = pd.read_csv(\"data/bekasi.csv\", low_memory = False, encoding='utf8')\n",
        "except: # Running in Google Colab\n",
        "    !mkdir data\n",
        "    !wget -P data/ https://raw.githubusercontent.com/taufiksutanto/EDA-Case-01-PreProcessing/master/data/jakarta.csv\n",
        "    !wget -P data/ https://raw.githubusercontent.com/taufiksutanto/EDA-Case-01-PreProcessing/master/data/bogor.csv\n",
        "    !wget -P data/ https://raw.githubusercontent.com/taufiksutanto/EDA-Case-01-PreProcessing/master/data/bekasi.csv\n",
        "    jakarta = pd.read_csv(\"data/jakarta.csv\", low_memory = False, encoding='utf8')\n",
        "    bogor = pd.read_csv(\"data/bogor.csv\", low_memory = False, encoding='utf8')\n",
        "    bekasi = pd.read_csv(\"data/bekasi.csv\", low_memory = False, encoding='utf8')\n",
        "    \n",
        "jakarta.shape, bogor.shape, bekasi.shape"
      ]
    },
    {
      "cell_type": "markdown",
      "source": [
        "Terdapat hasil jumlah data baris dan kolom data yang belum dibersihkan dan dirapikan. Yaitu 1024 baris dan 26 kolom untuk kota Jakarta, 999 baris dan 26 kolom untuk kota Bogor, dan 992 baris dan 26 kolom untuk kota Bekasi."
      ],
      "metadata": {
        "id": "_JXhqooNc1vp"
      }
    },
    {
      "cell_type": "code",
      "source": [
        "jakarta = pd.DataFrame(jakarta)\n",
        "bogor = pd.DataFrame(bogor)\n",
        "bekasi = pd.DataFrame(bekasi)"
      ],
      "metadata": {
        "id": "q6xD7peYLB_l"
      },
      "execution_count": null,
      "outputs": []
    },
    {
      "cell_type": "code",
      "source": [
        "jakarta.info(), bogor.info(), bekasi.info()"
      ],
      "metadata": {
        "id": "of5-tlNUPAq9"
      },
      "execution_count": null,
      "outputs": []
    },
    {
      "cell_type": "code",
      "source": [
        "jakarta.describe().transpose(), "
      ],
      "metadata": {
        "id": "aObMKmMLNO6H"
      },
      "execution_count": null,
      "outputs": []
    },
    {
      "cell_type": "code",
      "source": [
        "bogor.describe().transpose()"
      ],
      "metadata": {
        "id": "Dbr2bWumNPF0"
      },
      "execution_count": null,
      "outputs": []
    },
    {
      "cell_type": "code",
      "source": [
        "bekasi.describe().transpose()"
      ],
      "metadata": {
        "id": "tSqjeBHJNQAr"
      },
      "execution_count": null,
      "outputs": []
    },
    {
      "cell_type": "markdown",
      "source": [
        "Melakukan statistika deskriptif masing masing kota untuk menggambarkan jumlah, rata rata, standar deviasi, kuartil 1, 2, dan 3, minimal serta maksimal. Masing masing komponen mmemberikan gambaran mengenai variabel atau data yang digunakan dan diproses."
      ],
      "metadata": {
        "id": "K125tzZrc8ik"
      }
    },
    {
      "cell_type": "markdown",
      "source": [
        "**2. Data Prepocessing**"
      ],
      "metadata": {
        "id": "gCr3bvksc_yW"
      }
    },
    {
      "cell_type": "code",
      "execution_count": null,
      "metadata": {
        "id": "BNVvZU1iFRgE"
      },
      "outputs": [],
      "source": [
        "#menghapus kolom yang berisi data NaN\n",
        "jakarta.drop([\"created_at\", \"hadap\", \"Unnamed: 14\",'Unnamed: 14', 'Unnamed: 15', 'Unnamed: 16', 'Unnamed: 17','Unnamed: 18', 'Unnamed: 19', 'Unnamed: 20', 'Unnamed: 21', 'Unnamed: 22', 'Unnamed: 23', 'Unnamed: 24', 'Unnamed: 25'], axis=1, inplace=True)\n"
      ]
    },
    {
      "cell_type": "code",
      "source": [
        "bogor.drop([\"created_at\", \"hadap\",\"Unnamed: 14\",'Unnamed: 14', 'Unnamed: 15', 'Unnamed: 16', 'Unnamed: 17','Unnamed: 18', 'Unnamed: 19', 'Unnamed: 20', 'Unnamed: 21', 'Unnamed: 22', 'Unnamed: 23', 'Unnamed: 24', 'Unnamed: 25'], axis=1, inplace=True)\n"
      ],
      "metadata": {
        "id": "Scat_OpzQotY"
      },
      "execution_count": null,
      "outputs": []
    },
    {
      "cell_type": "code",
      "source": [
        "bekasi.drop([\"created_at\", \"hadap\",\"Unnamed: 14\",'Unnamed: 14', 'Unnamed: 15', 'Unnamed: 16', 'Unnamed: 17','Unnamed: 18', 'Unnamed: 19', 'Unnamed: 20', 'Unnamed: 21', 'Unnamed: 22', 'Unnamed: 23', 'Unnamed: 24', 'Unnamed: 25'], axis=1, inplace=True)\n"
      ],
      "metadata": {
        "id": "CLX0FYw4Qoj8"
      },
      "execution_count": null,
      "outputs": []
    },
    {
      "cell_type": "code",
      "source": [
        "jakarta.drop_duplicates(inplace = True)\n",
        "print(jakarta.shape)\n",
        "jakarta.duplicated().sum()"
      ],
      "metadata": {
        "id": "f2MZI8LHSW_4"
      },
      "execution_count": null,
      "outputs": []
    },
    {
      "cell_type": "code",
      "source": [
        "jakarta.isnull().sum()"
      ],
      "metadata": {
        "id": "YVtZHW-URojZ"
      },
      "execution_count": null,
      "outputs": []
    },
    {
      "cell_type": "code",
      "source": [
        "bogor.drop_duplicates(inplace = True)\n",
        "print(bogor.shape)\n",
        "bogor.duplicated().sum()"
      ],
      "metadata": {
        "id": "TvCUO9eHSfyb"
      },
      "execution_count": null,
      "outputs": []
    },
    {
      "cell_type": "code",
      "source": [
        "bogor.isnull().sum()"
      ],
      "metadata": {
        "id": "fRuNtANGRrg5"
      },
      "execution_count": null,
      "outputs": []
    },
    {
      "cell_type": "code",
      "source": [
        "bekasi.drop_duplicates(inplace = True)\n",
        "print(bekasi.shape)\n",
        "bekasi.duplicated().sum()"
      ],
      "metadata": {
        "id": "7R-mZBLaSvYT"
      },
      "execution_count": null,
      "outputs": []
    },
    {
      "cell_type": "code",
      "source": [
        "bekasi.isnull().sum()"
      ],
      "metadata": {
        "id": "aGlJOz3WRrjZ"
      },
      "execution_count": null,
      "outputs": []
    },
    {
      "cell_type": "markdown",
      "source": [
        "Untuk merapikan data yang berisikan NaN kita menghapus kolom yang berisikan data NaN dengan menggunakan fungsi drop_duplicates. Selanjutnya kita menggunakan fungsi isnull().sum() untuk merubah data Nan menjadi 0"
      ],
      "metadata": {
        "id": "RQkOSERWdl9z"
      }
    },
    {
      "cell_type": "code",
      "source": [
        "null = jakarta[\"KT\"].isnull()\n",
        "jakarta[\"KT\"] = jakarta[\"KT\"].replace(np.nan, 0)\n",
        "null = jakarta[\"KM\"].isnull()\n",
        "jakarta[\"KM\"] = jakarta[\"KM\"].replace(np.nan, 0)\n",
        "null = jakarta[\"garasi\"].isnull()\n",
        "jakarta[\"garasi\"] = jakarta[\"garasi\"].replace(np.nan, 0)\n",
        "null = jakarta[\"carport\"].isnull()\n",
        "jakarta[\"carport\"] = jakarta[\"carport\"].replace(np.nan, 0)\n",
        "null = jakarta[\"listrik\"].isnull()\n",
        "jakarta[\"listrik\"] = jakarta[\"listrik\"].replace(np.nan, 0)\n",
        "\n",
        "\n",
        "mean = jakarta[\"LB\"].mean()\n",
        "jakarta[\"LB\"] = jakarta[\"LB\"].replace(np.nan, mean)\n",
        "mean = jakarta[\"LT\"].mean()\n",
        "jakarta[\"LT\"] = jakarta[\"LT\"].replace(np.nan, mean)\n",
        "mean = jakarta[\"harga\"].mean()\n",
        "jakarta[\"harga\"] = jakarta[\"harga\"].replace(np.nan, mean)\n",
        "\n",
        "\n",
        "jakarta"
      ],
      "metadata": {
        "id": "EhdlP0DITY5n"
      },
      "execution_count": null,
      "outputs": []
    },
    {
      "cell_type": "code",
      "source": [
        "null = bogor[\"KT\"].isnull()\n",
        "bogor[\"KT\"] = bogor[\"KT\"].replace(np.nan, 0)\n",
        "null = bogor[\"KM\"].isnull()\n",
        "bogor[\"KM\"] = bogor[\"KM\"].replace(np.nan, 0)\n",
        "null = bogor[\"garasi\"].isnull()\n",
        "bogor[\"garasi\"] = bogor[\"garasi\"].replace(np.nan, 0)\n",
        "null = bogor[\"carport\"].isnull()\n",
        "bogor[\"carport\"] = bogor[\"carport\"].replace(np.nan, 0)\n",
        "null = bogor[\"listrik\"].isnull()\n",
        "bogor[\"listrik\"] = bogor[\"listrik\"].replace(np.nan, 0)\n",
        "\n",
        "\n",
        "mean = bogor[\"LB\"].mean()\n",
        "bogor[\"LB\"] = bogor[\"LB\"].replace(np.nan, mean)\n",
        "mean = bogor[\"LT\"].mean()\n",
        "bogor[\"LT\"] = bogor[\"LT\"].replace(np.nan, mean)\n",
        "mean = bogor[\"harga\"].mean()\n",
        "bogor[\"harga\"] = bogor[\"harga\"].replace(np.nan, mean)\n",
        "\n",
        "\n",
        "bogor"
      ],
      "metadata": {
        "id": "o7XN2-q8f9ub"
      },
      "execution_count": null,
      "outputs": []
    },
    {
      "cell_type": "code",
      "source": [
        "null = bekasi[\"KT\"].isnull()\n",
        "bekasi[\"KT\"] = bekasi[\"KT\"].replace(np.nan, 0)\n",
        "null = bekasi[\"KM\"].isnull()\n",
        "bekasi[\"KM\"] = bekasi[\"KM\"].replace(np.nan, 0)\n",
        "null = bekasi[\"garasi\"].isnull()\n",
        "bekasi[\"garasi\"] = bekasi[\"garasi\"].replace(np.nan, 0)\n",
        "null = bekasi[\"carport\"].isnull()\n",
        "bekasi[\"carport\"] = bekasi[\"carport\"].replace(np.nan, 0)\n",
        "null = bekasi[\"listrik\"].isnull()\n",
        "bekasi[\"listrik\"] = bekasi[\"listrik\"].replace(np.nan, 0)\n",
        "\n",
        "\n",
        "mean = bekasi[\"LB\"].mean()\n",
        "bekasi[\"LB\"] = bekasi[\"LB\"].replace(np.nan, mean)\n",
        "mean = bekasi[\"LT\"].mean()\n",
        "bekasi[\"LT\"] = bekasi[\"LT\"].replace(np.nan, mean)\n",
        "mean = bekasi[\"harga\"].mean()\n",
        "bekasi[\"harga\"] = bekasi[\"harga\"].replace(np.nan, mean)\n",
        "\n",
        "\n",
        "bekasi"
      ],
      "metadata": {
        "id": "MCpbgvm_gG5Z"
      },
      "execution_count": null,
      "outputs": []
    },
    {
      "cell_type": "markdown",
      "source": [
        "***Interpretasi dan Jawaban***\n",
        "\n",
        "1. Kualitas data yang dimiliki perusahaan.\n",
        "\n",
        ">> Setelah memproses data yang telah diberikan, kualitas data yang dimiliki perusahaan cenderung kotor dan banyak data yang kosong. Ada beberapa data yang kurang membantu, sehingga data yang diberikan tersebut memiliki kualitas yang buruk.\n",
        "\n",
        "2. Apakah ada saran perbaikan data ke DE/DBA perusahaan agar RPPI menjadi data driven company yang unggul.\n",
        "\n",
        ">> Saran yang bisa tim kami sampaikan. DE/DBA bisa mengumpulkan data seakurat dan sedetail mungkin, agar tim kami bisa lebih cepat dan lebih rapih dalam menganalisis data yang diberikan, karena terdapat beberapa data yang kosong, sehingga menyulitkan tim kami dalam melakukan proses analisis data.\n",
        "\n",
        "3. Dari data yang ada, apakah ada kecenderungan rumah disuatu kota lebih mahal/murah dibandingkan kota lain?\n",
        "\n",
        ">> Ada, setelah membandingkan dari ketiga kota yang telah kami proses. Kami bisa menyimpulkan bahwa kota jakarta cenderung mahal dari pada 2 kota lainnya dengan rata-rata harga rumah di jakarta berkisar 8 miliar, sedangkan 2 kota lainnya berkisar sekitar 1 miliar, ini bisa dikarenakan luas bangunan atau letak bangunan di jakarta yang strategis.\n",
        "\n",
        "4. Rumah dengan karakteristik seperti apa yang paling banyak dijual?\n",
        "\n",
        ">> Rumah dengan fasilitas carport lebih banyak dijual dibandingkan dengan rumah yang memiliki fasilitas garasi. Rumah yang memiliki sertifikat tentu saja lebih menjual daripada rumah yang tidak memiliki sertifikat, namun dari data yang diberikan perusahaan masih ada rumah yang tidak memiliki sertifikat tetapi tetap diperjualbelikan. \n",
        "\n",
        "5. Jika RPPI ingin melakukan investasi (max) Rp. 25 Milyar minggu besok, apakah dari data (statistika deskriptif sederhana) anda dapat memberikan rekomendasi rumah mana saja yang akan berpotensi menghasilkan keuntungan bagi perusahaan?\n",
        "\n",
        ">> Setelah melihat hasilnya, kami bisa memberikan perusahaan beberapa rekomendasi rumah yang sangat berpotensi menghasilkan keuntungan besar bagi perusahaan, berikut datanya\n",
        "\n",
        "6. Dan yang terpenting, informasi berharga apa lagi yang bisa anda dapatkan dari data melalui hanya preprocessing dan statistika deskriptif?\n",
        "\n",
        ">> "
      ],
      "metadata": {
        "id": "YT2awt_Bg6W-"
      }
    },
    {
      "cell_type": "markdown",
      "source": [
        "**Kesimpulan**\n",
        "\n",
        "Data yang diberikan oleh perusahaan tidak lengkap atau masih banyak yang kosong, sehingga diperlukan data yang lengkap untuk proses penganalisaan yang baik. Kota Jakarta memiliki harga jual yang paling tinggi diantara harga jual ke 2 kota lainnya. Hal tersebut dikarenakan Jakarta memiliki luas bangunan dan letak yang strategis. Karakteristik rumah yang banyak diminati oleh pembeli adalah yang memiliki carport dan bersertifikat. Sehingga dari data yang kami olah, perusahaan dapat menentukan jenis rumah yang memiliki keuntungan yang lebih besar untuk perusahaan."
      ],
      "metadata": {
        "id": "VgLa2DKQlGtt"
      }
    }
  ]
}